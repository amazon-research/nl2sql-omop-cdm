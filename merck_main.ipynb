{
 "cells": [
  {
   "cell_type": "markdown",
   "id": "advisory-while",
   "metadata": {},
   "source": [
    "# Merck Graphical User Interface (GUI)\n",
    "\n",
    "<font color='red'>Disclaimer: This is a pilot of the real tool.</font>\n",
    "\n",
    "Notebook for Merck users to interact with the Natural Language to SQL tool."
   ]
  },
  {
   "cell_type": "markdown",
   "id": "subtle-bradley",
   "metadata": {},
   "source": [
    "**Note**: Before you start running the notebook, please make sure that you are using `conda_pytorch_latest_p36` conda environment. If not, please change it by clicking on:\n",
    "```\n",
    "Kernel -> Change Kernel -> conda_pytorch_latest_p36\n",
    "```"
   ]
  },
  {
   "cell_type": "code",
   "execution_count": null,
   "id": "fluid-century",
   "metadata": {},
   "outputs": [],
   "source": [
    "%load_ext autoreload\n",
    "%autoreload 2\n",
    "%cd ./src/"
   ]
  },
  {
   "cell_type": "markdown",
   "id": "taken-piece",
   "metadata": {},
   "source": [
    "## Start the GUI \n",
    "\n",
    "The GUI will appear after running the cell below. To do so you can select the cell and click `▶︎⎮ Run`.\n",
    "\n",
    "## Overview\n",
    "\n",
    "    1. Set the credentials.\n",
    "    2. Introduce the natural language query in the main tab. Hit \"detect\".\n",
    "    3. Review that the query appearing in the box below is correct and entities are mapped to the correct ICD10 codes.\n",
    "    4. (optional) If any corrections are required use the \"correct detection\" or \"correct code map\" tabs as needed.\n",
    "    5. Hit \"Execute\" to see the requested table.\n",
    "\n",
    "\n",
    "## In-depth\n",
    "\n",
    "### Credentials interface\n",
    "\n",
    "Merck require users to have access to the data in Redshift. To ensure the security of Merck data users are required to provide their individual credentials to use the tool. The credentials are used to \"Execute\" the queries against the DB. \n",
    "\n",
    "\n",
    "### Main interface\n",
    "\n",
    "The interface is composed of three tabs: `Main`, `Correct detection` and `Correct code map`. \n",
    "\n",
    "* The `main` tab is used to input the Natural Language Query and has two buttons: \n",
    "\n",
    "    1. `Detect` button runs key entities detection and maps key entities to the most likely option.\n",
    "    2. `Execute` is intended to be runned after the user verifies that the detection and disambiguation are correct. It will run the query agains the Data Base and return the desired table. \n",
    "    \n",
    "* The `Correct detection` is intended for the user to add terms in the sentence that hasen't been automatically detected.\n",
    "\n",
    "    1. The `Write name` box is intended for the user to write the term that hasn't been detected.\n",
    "    2. The `Category` box is intended for the user to choose the category of the entity highlighted by the user.\n",
    "    3. The `Highlight` button is intended for the user to submit the higlighted term. The display will be automatically updated when the highlight is submitted. \n",
    "    \n",
    "* The `Correct code map` is intended for the user to rectify mappings of sentence terms to RxNorm and ICD10 codes for drugs and conditions respectively.\n",
    "\n",
    "    1. The `Drug (Condition)` box is inteded for users to select the detected Drug (Condition) for which they want to change the mapping.\n",
    "    2. The `Show drug (condition) info` will display iformation introduced in the Drug (Condition) including mapping recommendations and the RxNorm (ICD10) code it is currently mapping to.\n",
    "    3. The `Map to` box is intended for the user to write the RxNorm (ICD10) code they want the drug (condition) to map to.\n",
    "    4. The `Update drug (condition)` button is intended for the user to submit the mapping update.\n",
    "    "
   ]
  },
  {
   "cell_type": "markdown",
   "id": "understood-lying",
   "metadata": {},
   "source": [
    "----"
   ]
  },
  {
   "cell_type": "markdown",
   "id": "alien-skiing",
   "metadata": {},
   "source": [
    "**Example question**\n",
    "\n",
    "Questions where arguments will be detected:\n",
    "\n",
    "    * Number of patients taking Aspirin\n",
    "    * Number of patients having Insomnia\n",
    "    \n",
    "Questions where arguments will not be detected:\n",
    "    \n",
    "    * Number of patients by gender\n",
    "    * Number of patients by race"
   ]
  },
  {
   "cell_type": "markdown",
   "id": "computational-option",
   "metadata": {},
   "source": [
    "----"
   ]
  },
  {
   "cell_type": "code",
   "execution_count": null,
   "id": "seventh-sunglasses",
   "metadata": {},
   "outputs": [],
   "source": [
    "import warnings; warnings.filterwarnings('ignore')\n",
    "import config\n",
    "from engine.pipeline import nlq2SqlTool\n",
    "from ui.ui import UI\n",
    "\n",
    "tool = nlq2SqlTool(config)\n",
    "ui = UI(tool)\n",
    "ui.main()"
   ]
  },
  {
   "cell_type": "markdown",
   "id": "chronic-machine",
   "metadata": {},
   "source": [
    "-----"
   ]
  }
 ],
 "metadata": {
  "kernelspec": {
   "display_name": "conda_pytorch_latest_p36",
   "language": "python",
   "name": "conda_pytorch_latest_p36"
  },
  "language_info": {
   "codemirror_mode": {
    "name": "ipython",
    "version": 3
   },
   "file_extension": ".py",
   "mimetype": "text/x-python",
   "name": "python",
   "nbconvert_exporter": "python",
   "pygments_lexer": "ipython3",
   "version": "3.6.13"
  }
 },
 "nbformat": 4,
 "nbformat_minor": 5
}
