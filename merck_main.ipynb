{
 "cells": [
  {
   "cell_type": "code",
   "execution_count": 1,
   "id": "083f2ceb",
   "metadata": {},
   "outputs": [
    {
     "name": "stdout",
     "output_type": "stream",
     "text": [
      "/home/ec2-user/SageMaker/merck_nl2sql/src/tool\n"
     ]
    }
   ],
   "source": [
    "%load_ext autoreload\n",
    "%autoreload 2\n",
    "%cd ./src/tool/"
   ]
  },
  {
   "cell_type": "markdown",
   "id": "6c1daeda",
   "metadata": {},
   "source": [
    "# Merck Graphical User Interface (GUI)\n",
    "\n",
    "<font color='red'>Disclaimer: This is a pilot of the real tool.</font>\n",
    "\n",
    "Notebook for Merck users to interact with the Natural Language to SQL tool.\n",
    "\n",
    "\n",
    "## Start the GUI \n",
    "\n",
    "The GUI will appear after running the cell below. To do so you can select the cell and click `▶︎⎮ Run`.\n",
    "\n",
    "## Overview\n",
    "\n",
    "    1. Set the credentials.\n",
    "    2. Introduce the natural language query in the main tab. Hit \"detect\".\n",
    "    3. Review that the query appearing in the box below is correct and entities are mapped to the correct ICD10 codes.\n",
    "    4. (optional) If any corrections are required use the \"correct detection\" or \"correct code map\" tabs as needed.\n",
    "    5. Hit \"Execute\" to see the requested table.\n",
    "\n",
    "\n",
    "## In-depth\n",
    "\n",
    "### Credentials interface\n",
    "\n",
    "Merck require users to have access to the data in Redshift. To ensure the security of Merck data users are required to provide their individual credentials to use the tool. The credentials are used to \"Execute\" the queries against the DB. \n",
    "\n",
    "\n",
    "### Main interface\n",
    "\n",
    "The interface is composed of three tabs: `Main`, `Correct detection` and `Correct code map`. \n",
    "\n",
    "* The `main` tab is used to input the Natural Language Query and has two buttons: \n",
    "\n",
    "    1. `Detect` button runs key entities detection and maps key entities to the most likely option.\n",
    "    2. `Execute` is intended to be runned after the user verifies that the detection and disambiguation are correct. It will run the query agains the Data Base and return the desired table. \n",
    "    \n",
    "* The `Correct detection` is intended for the user to add terms in the sentence that hasen't been automatically detected.\n",
    "\n",
    "    1. The `Write name` box is intended for the user to write the term that hasn't been detected.\n",
    "    2. The `Category` box is intended for the user to choose the category of the entity highlighted by the user.\n",
    "    3. The `Highlight` button is intended for the user to submit the higlighted term. The display will be automatically updated when the highlight is submitted. \n",
    "    \n",
    "* The `Correct code map` is intended for the user to rectify mappings of sentence terms to RxNorm and ICD10 codes for drugs and conditions respectively.\n",
    "\n",
    "    1. The `Drug (Condition)` box is inteded for users to select the detected Drug (Condition) for which they want to change the mapping.\n",
    "    2. The `Show drug (condition) info` will display iformation introduced in the Drug (Condition) including mapping recommendations and the RxNorm (ICD10) code it is currently mapping to.\n",
    "    3. The `Map to` box is intended for the user to write the RxNorm (ICD10) code they want the drug (condition) to map to.\n",
    "    4. The `Update drug (condition)` button is intended for the user to submit the mapping update.\n",
    "    "
   ]
  },
  {
   "cell_type": "markdown",
   "id": "97da222d",
   "metadata": {},
   "source": [
    "----"
   ]
  },
  {
   "cell_type": "markdown",
   "id": "d203cec2",
   "metadata": {},
   "source": [
    "**Example question**\n",
    "\n",
    "Questions where arguments will be detected:\n",
    "\n",
    "    * Number of patients taking Aspirin\n",
    "    * Number of patients having Insomnia\n",
    "    \n",
    "Questions where arguments will not be detected:\n",
    "    \n",
    "    * Number of patients by gender\n",
    "    * Number of patients by race"
   ]
  },
  {
   "cell_type": "markdown",
   "id": "6db261e3",
   "metadata": {},
   "source": [
    "----"
   ]
  },
  {
   "cell_type": "code",
   "execution_count": 2,
   "id": "089a6f08",
   "metadata": {},
   "outputs": [
    {
     "name": "stderr",
     "output_type": "stream",
     "text": [
      "The `xla_device` argument has been deprecated in v4.4.0 of Transformers. It is ignored and you can safely remove it from your `config.json` file.\n"
     ]
    },
    {
     "data": {
      "application/vnd.jupyter.widget-view+json": {
       "model_id": "8ba71767e06747f5989ac3cadf08bfa7",
       "version_major": 2,
       "version_minor": 0
      },
      "text/plain": [
       "VBox(children=(Accordion(children=(HBox(children=(Text(value='', description='User:', layout=Layout(width='30%…"
      ]
     },
     "metadata": {},
     "output_type": "display_data"
    }
   ],
   "source": [
    "import warnings; warnings.filterwarnings('ignore')\n",
    "import config\n",
    "from engine.pipeline import nlq2SqlTool\n",
    "from ui.ui import UI\n",
    "\n",
    "tool = nlq2SqlTool(config)\n",
    "ui = UI(tool)\n",
    "ui.main()"
   ]
  },
  {
   "cell_type": "code",
   "execution_count": 3,
   "id": "eecd6e7c",
   "metadata": {},
   "outputs": [],
   "source": [
    "tool.set_db_credentials('master', 'Password123!')"
   ]
  },
  {
   "cell_type": "code",
   "execution_count": 4,
   "id": "6baa8f23",
   "metadata": {},
   "outputs": [
    {
     "data": {
      "text/plain": [
       "['__call__',\n",
       " '__class__',\n",
       " '__delattr__',\n",
       " '__dict__',\n",
       " '__dir__',\n",
       " '__doc__',\n",
       " '__eq__',\n",
       " '__format__',\n",
       " '__ge__',\n",
       " '__getattribute__',\n",
       " '__gt__',\n",
       " '__hash__',\n",
       " '__init__',\n",
       " '__init_subclass__',\n",
       " '__le__',\n",
       " '__lt__',\n",
       " '__module__',\n",
       " '__ne__',\n",
       " '__new__',\n",
       " '__reduce__',\n",
       " '__reduce_ex__',\n",
       " '__repr__',\n",
       " '__setattr__',\n",
       " '__sizeof__',\n",
       " '__str__',\n",
       " '__subclasshook__',\n",
       " '__weakref__',\n",
       " '_close_redshift_connection',\n",
       " '_open_redshift_connection',\n",
       " '_password',\n",
       " '_user',\n",
       " 'clear_credentials',\n",
       " 'config',\n",
       " 'credentials_exist',\n",
       " 'detect_entities',\n",
       " 'execute_sql_query',\n",
       " 'ml_call',\n",
       " 'model',\n",
       " 'process_entities',\n",
       " 'render_template_query',\n",
       " 'replace_name_for_placeholder',\n",
       " 'set_db_credentials']"
      ]
     },
     "execution_count": 4,
     "metadata": {},
     "output_type": "execute_result"
    }
   ],
   "source": [
    "dir(tool)"
   ]
  },
  {
   "cell_type": "code",
   "execution_count": 5,
   "id": "4aa07c24",
   "metadata": {},
   "outputs": [
    {
     "data": {
      "text/plain": [
       "'Number of patients taking Aspirin'"
      ]
     },
     "execution_count": 5,
     "metadata": {},
     "output_type": "execute_result"
    }
   ],
   "source": [
    "nlq = 'Number of patients taking Aspirin'\n",
    "nlq"
   ]
  },
  {
   "cell_type": "code",
   "execution_count": 6,
   "id": "71bee33d",
   "metadata": {},
   "outputs": [
    {
     "data": {
      "text/plain": [
       "{'TIMEDAYS': [],\n",
       " 'TIMEYEARS': [],\n",
       " 'DRUG': [{'BeginOffset': 26, 'EndOffset': 33, 'Text': 'Aspirin'}],\n",
       " 'CONDITION': [],\n",
       " 'STATE': [],\n",
       " 'GENDER': [],\n",
       " 'ETHNICITY': [],\n",
       " 'RACE': []}"
      ]
     },
     "execution_count": 6,
     "metadata": {},
     "output_type": "execute_result"
    }
   ],
   "source": [
    "entities = tool.detect_entities(nlq)\n",
    "entities"
   ]
  },
  {
   "cell_type": "code",
   "execution_count": 7,
   "id": "0bc41d45",
   "metadata": {},
   "outputs": [
    {
     "data": {
      "text/plain": [
       "{'TIMEDAYS': [],\n",
       " 'TIMEYEARS': [],\n",
       " 'DRUG': [{'BeginOffset': 26,\n",
       "   'EndOffset': 33,\n",
       "   'Text': 'Aspirin',\n",
       "   'Options': [{'Description': 'aspirin',\n",
       "     'Code': '1191',\n",
       "     'Score': 0.941210150718689},\n",
       "    {'Description': 'Aspirin 325 MG Delayed Release Oral Tablet',\n",
       "     'Code': '198467',\n",
       "     'Score': 0.5810876488685608},\n",
       "    {'Description': 'Aspirin 81 MG Delayed Release Oral Tablet [Aspir-Low]',\n",
       "     'Code': '1293665',\n",
       "     'Score': 0.3323255777359009},\n",
       "    {'Description': 'Aspirin 325 MG Delayed Release Oral Tablet [Ecpirin]',\n",
       "     'Code': '1001476',\n",
       "     'Score': 0.32233837246894836},\n",
       "    {'Description': 'Aspirin 81 MG Delayed Release Oral Tablet [Miniprin]',\n",
       "     'Code': '1052678',\n",
       "     'Score': 0.29937997460365295}],\n",
       "   'Query-arg': '1191',\n",
       "   'Placeholder': '<ARG-DRUG><0>'}],\n",
       " 'CONDITION': [],\n",
       " 'STATE': [],\n",
       " 'GENDER': [],\n",
       " 'ETHNICITY': [],\n",
       " 'RACE': []}"
      ]
     },
     "execution_count": 7,
     "metadata": {},
     "output_type": "execute_result"
    }
   ],
   "source": [
    "proc_entities = tool.process_entities(entities)\n",
    "proc_entities"
   ]
  },
  {
   "cell_type": "code",
   "execution_count": 8,
   "id": "554d831d",
   "metadata": {},
   "outputs": [
    {
     "data": {
      "text/plain": [
       "'Number of patients taking <ARG-DRUG><0>'"
      ]
     },
     "execution_count": 8,
     "metadata": {},
     "output_type": "execute_result"
    }
   ],
   "source": [
    "proc_nlq = tool.replace_name_for_placeholder(nlq, proc_entities)\n",
    "proc_nlq"
   ]
  },
  {
   "cell_type": "code",
   "execution_count": 9,
   "id": "07541448",
   "metadata": {},
   "outputs": [
    {
     "data": {
      "text/plain": [
       "'SELECT COUNT( DISTINCT pe1.person_id) FROM (<SCHEMA>.person pe1 JOIN (<DRUG-TEMPLATE><ARG-DRUG><0> JOIN <SCHEMA>.drug_exposure dr1 ON concept_id=drug_concept_id) ON pe1.person_id=dr1.person_id);'"
      ]
     },
     "execution_count": 9,
     "metadata": {},
     "output_type": "execute_result"
    }
   ],
   "source": [
    "general_sql = tool.ml_call(proc_nlq)\n",
    "general_sql"
   ]
  },
  {
   "cell_type": "code",
   "execution_count": 11,
   "id": "0ab35e7a",
   "metadata": {},
   "outputs": [
    {
     "data": {
      "text/plain": [
       "\"SELECT COUNT( DISTINCT pe1.person_id) FROM (cmsdesynpuf23m.person pe1 JOIN (( SELECT descendant_concept_id AS concept_id FROM (SELECT * FROM (SELECT concept_id_2 FROM ( (SELECT concept_id FROM  cmsdesynpuf23m.concept WHERE vocabulary_id='RxNorm' AND ( concept_code='1191' )) JOIN  ( SELECT concept_id_1, concept_id_2 FROM  cmsdesynpuf23m.concept_relationship WHERE relationship_id='Maps to' )  ON concept_id=concept_id_1) ) JOIN cmsdesynpuf23m.concept ON concept_id_2=concept_id) JOIN cmsdesynpuf23m.concept_ancestor ON concept_id=ancestor_concept_id )  JOIN cmsdesynpuf23m.drug_exposure dr1 ON concept_id=drug_concept_id) ON pe1.person_id=dr1.person_id);\""
      ]
     },
     "execution_count": 11,
     "metadata": {},
     "output_type": "execute_result"
    }
   ],
   "source": [
    "executable_sql = tool.render_template_query(general_sql, proc_entities)\n",
    "executable_sql"
   ]
  },
  {
   "cell_type": "code",
   "execution_count": 12,
   "id": "a8f23bc4",
   "metadata": {},
   "outputs": [
    {
     "data": {
      "text/html": [
       "<div>\n",
       "<style scoped>\n",
       "    .dataframe tbody tr th:only-of-type {\n",
       "        vertical-align: middle;\n",
       "    }\n",
       "\n",
       "    .dataframe tbody tr th {\n",
       "        vertical-align: top;\n",
       "    }\n",
       "\n",
       "    .dataframe thead th {\n",
       "        text-align: right;\n",
       "    }\n",
       "</style>\n",
       "<table border=\"1\" class=\"dataframe\">\n",
       "  <thead>\n",
       "    <tr style=\"text-align: right;\">\n",
       "      <th></th>\n",
       "      <th>count</th>\n",
       "    </tr>\n",
       "  </thead>\n",
       "  <tbody>\n",
       "    <tr>\n",
       "      <th>0</th>\n",
       "      <td>610409</td>\n",
       "    </tr>\n",
       "  </tbody>\n",
       "</table>\n",
       "</div>"
      ],
      "text/plain": [
       "    count\n",
       "0  610409"
      ]
     },
     "execution_count": 12,
     "metadata": {},
     "output_type": "execute_result"
    }
   ],
   "source": [
    "results = tool.execute_sql_query(executable_sql)\n",
    "results"
   ]
  },
  {
   "cell_type": "markdown",
   "id": "de5cb445",
   "metadata": {},
   "source": [
    "-----"
   ]
  }
 ],
 "metadata": {
  "kernelspec": {
   "display_name": "conda_pytorch_p36",
   "language": "python",
   "name": "conda_pytorch_p36"
  },
  "language_info": {
   "codemirror_mode": {
    "name": "ipython",
    "version": 3
   },
   "file_extension": ".py",
   "mimetype": "text/x-python",
   "name": "python",
   "nbconvert_exporter": "python",
   "pygments_lexer": "ipython3",
   "version": "3.6.13"
  }
 },
 "nbformat": 4,
 "nbformat_minor": 5
}
