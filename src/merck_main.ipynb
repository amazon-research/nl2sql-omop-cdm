{
 "cells": [
  {
   "cell_type": "code",
   "execution_count": 1,
   "id": "e78c50d7",
   "metadata": {},
   "outputs": [
    {
     "name": "stdout",
     "output_type": "stream",
     "text": [
      "/home/ec2-user/SageMaker/merck_nl2sql/src\n"
     ]
    }
   ],
   "source": [
    "%load_ext autoreload\n",
    "%autoreload 2\n",
    "%cd ~/SageMaker/merck_nl2sql/src/"
   ]
  },
  {
   "cell_type": "markdown",
   "id": "2c89ce80",
   "metadata": {},
   "source": [
    "# Merck Graphical User Interface (GUI)\n",
    "\n",
    "<font color='red'>Disclaimer: Execution and query creation depend on the ML model and is not functional at the moment.</font>\n",
    "\n",
    "Notebook for Merck users to interact with the Natural Language to SQL tool.\n",
    "\n",
    "\n",
    "## Start the GUI \n",
    "\n",
    "The GUI will appear after running the cell below. To do so you can select the cell and click `▶︎⎮ Run`.\n",
    "\n",
    "## Instructions's Instructions\n",
    "\n",
    "The interface is composed of three tabs: `Main`, `Correct detection` and `Correct code map`. \n",
    "\n",
    "* The `main` tab is used to input the Natural Language Query and has two buttons: \n",
    "\n",
    "    1. `Detect` button runs key entities detection and maps key entities to the most likely option.\n",
    "    2. `Execute` is intended to be runned after the user verifies that the detection and disambiguation are correct. It will run the query agains the Data Base and return the desired table. \n",
    "    \n",
    "* The `Correct detection` is intended for the user to add terms in the sentence that hasen't been automatically detected.\n",
    "\n",
    "    1. The `Write name` box is intended for the user to write the term that hasn't been detected.\n",
    "    2. The `Category` box is intended for the user to choose the category of the entity highlighted by the user.\n",
    "    3. The `Highlight` button is intended for the user to submit the higlighted term. The display will be automatically updated when the highlight is submitted. \n",
    "    \n",
    "* The `Correct code map` is intended for the user to rectify mappings of sentence terms to RxNorm and ICD10 codes for drugs and conditions respectively.\n",
    "\n",
    "    1. The `Drug (Condition)` box is inteded for users to select the detected Drug (Condition) for which they want to change the mapping.\n",
    "    2. The `Show drug (condition) info` will display iformation introduced in the Drug (Condition) including mapping recommendations and the RxNorm (ICD10) code it is currently mapping to.\n",
    "    3. The `Map to` box is intended for the user to write the RxNorm (ICD10) code they want the drug (condition) to map to.\n",
    "    4. The `Update drug (condition)` button is intended for the user to submit the mapping update.\n",
    "    "
   ]
  },
  {
   "cell_type": "markdown",
   "id": "a2d3444e",
   "metadata": {},
   "source": [
    "----"
   ]
  },
  {
   "cell_type": "markdown",
   "id": "a99dca70",
   "metadata": {},
   "source": [
    "**Example question**\n",
    "\n",
    "    * Number of patients taking Aspirin"
   ]
  },
  {
   "cell_type": "markdown",
   "id": "219d72cc",
   "metadata": {},
   "source": [
    "----"
   ]
  },
  {
   "cell_type": "code",
   "execution_count": 4,
   "id": "cd5ac76c",
   "metadata": {
    "scrolled": false
   },
   "outputs": [
    {
     "name": "stderr",
     "output_type": "stream",
     "text": [
      "The `xla_device` argument has been deprecated in v4.4.0 of Transformers. It is ignored and you can safely remove it from your `config.json` file.\n"
     ]
    },
    {
     "data": {
      "application/vnd.jupyter.widget-view+json": {
       "model_id": "18bee29cbeb44bd49e646d7c69ffe915",
       "version_major": 2,
       "version_minor": 0
      },
      "text/plain": [
       "VBox(children=(HBox(children=(Text(value='', description='User:', layout=Layout(width='30%')), Password(descri…"
      ]
     },
     "metadata": {},
     "output_type": "display_data"
    }
   ],
   "source": [
    "import warnings; warnings.filterwarnings('ignore')\n",
    "import config\n",
    "from pipeline import nlq2SqlTool\n",
    "from ui import UI\n",
    "\n",
    "tool = nlq2SqlTool(config)\n",
    "ui = UI(tool)\n",
    "ui.main()"
   ]
  },
  {
   "cell_type": "markdown",
   "id": "1a85357e",
   "metadata": {},
   "source": [
    "-----"
   ]
  }
 ],
 "metadata": {
  "kernelspec": {
   "display_name": "conda_pytorch_p36",
   "language": "python",
   "name": "conda_pytorch_p36"
  },
  "language_info": {
   "codemirror_mode": {
    "name": "ipython",
    "version": 3
   },
   "file_extension": ".py",
   "mimetype": "text/x-python",
   "name": "python",
   "nbconvert_exporter": "python",
   "pygments_lexer": "ipython3",
   "version": "3.6.13"
  }
 },
 "nbformat": 4,
 "nbformat_minor": 5
}
