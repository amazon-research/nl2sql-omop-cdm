{
 "cells": [
  {
   "cell_type": "code",
   "execution_count": 1,
   "id": "069fbf01",
   "metadata": {},
   "outputs": [],
   "source": [
    "%load_ext autoreload\n",
    "%autoreload 2"
   ]
  },
  {
   "cell_type": "markdown",
   "id": "038ee465",
   "metadata": {},
   "source": [
    "# Merck Graphical User Interface (GUI)\n",
    "\n",
    "Notebook for Merck users to interact with the Natural Language to SQL tool.\n",
    "\n",
    "\n",
    "## Start the GUI \n",
    "\n",
    "The GUI will appear after running the cell below. To do so you can select the cell and click `▶︎⎮ Run`.\n",
    "\n",
    "## Instructions's Instructions\n",
    "\n",
    "The interface is composed of three tabs: `Main`, `Correct detection` and `Correct code map`. \n",
    "\n",
    "* The `main` tab is used to input the Natural Language Query and has two buttons: \n",
    "\n",
    "    1. `Detect` button runs key entities detection and maps key entities to the most likely option.\n",
    "    2. `Execute` is intended to be runned after the user verifies that the detection and disambiguation are correct. It will run the query agains the Data Base and return the desired table. \n",
    "    \n",
    "* The `Correct detection` is intended for the user to add terms in the sentence that hasen't been automatically detected.\n",
    "\n",
    "    1. The `Write name` box is intended for the user to write the term that hasn't been detected.\n",
    "    2. The `Category` box is intended for the user to choose the category of the entity highlighted by the user.\n",
    "    3. The `Highlight` button is intended for the user to submit the higlighted term. The display will be automatically updated when the highlight is submitted. \n",
    "    \n",
    "* The `Correct code map` is intended for the user to rectify mappings of sentence terms to RxNorm and ICD10 codes for drugs and conditions respectively.\n",
    "\n",
    "    1. The `Drug (Condition)` box is inteded for users to select the detected Drug (Condition) for which they want to change the mapping.\n",
    "    2. The `Show drug (condition) info` will display iformation introduced in the Drug (Condition) including mapping recommendations and the RxNorm (ICD10) code it is currently mapping to.\n",
    "    3. The `Map to` box is intended for the user to write the RxNorm (ICD10) code they want the drug (condition) to map to.\n",
    "    4. The `Update drug (condition)` button is intended for the user to submit the mapping update.\n",
    "    "
   ]
  },
  {
   "cell_type": "code",
   "execution_count": 2,
   "id": "176ccc32",
   "metadata": {},
   "outputs": [],
   "source": [
    "# Number of patients suffering Insomnia"
   ]
  },
  {
   "cell_type": "code",
   "execution_count": 3,
   "id": "9a8d229c",
   "metadata": {
    "scrolled": false
   },
   "outputs": [
    {
     "name": "stderr",
     "output_type": "stream",
     "text": [
      "The `xla_device` argument has been deprecated in v4.4.0 of Transformers. It is ignored and you can safely remove it from your `config.json` file.\n"
     ]
    },
    {
     "data": {
      "application/vnd.jupyter.widget-view+json": {
       "model_id": "44081055ed694129b63ed832e9fb9572",
       "version_major": 2,
       "version_minor": 0
      },
      "text/plain": [
       "VBox(children=(Tab(children=(VBox(children=(Textarea(value='', description='Query:', layout=Layout(height='90%…"
      ]
     },
     "metadata": {},
     "output_type": "display_data"
    },
    {
     "name": "stdout",
     "output_type": "stream",
     "text": [
      "ML call using\n",
      "Number of patients suffering <ARG-CONDITION><0>\n",
      "features\n",
      "{'input_ids': tensor([[13959,  1566,    12, 12558,    10,  7720,    13,  1221,  5706,     3,\n",
      "             2,  4280,   517,    18,   254,  4170, 10826,  5494,  4170,  2490,\n",
      "             2,   632,  3155,     1,     0,     0,     0,     0,     0,     0,\n",
      "             0,     0,     0,     0,     0,     0,     0,     0,     0,     0,\n",
      "             0,     0,     0,     0,     0,     0,     0,     0,     0,     0,\n",
      "             0,     0,     0,     0,     0,     0,     0,     0,     0,     0,\n",
      "             0,     0,     0,     0,     0,     0,     0,     0,     0,     0,\n",
      "             0,     0,     0,     0,     0,     0,     0,     0,     0,     0,\n",
      "             0,     0,     0,     0,     0,     0,     0,     0,     0,     0,\n",
      "             0,     0,     0,     0,     0,     0,     0,     0,     0,     0,\n",
      "             0,     0,     0,     0,     0,     0,     0,     0,     0,     0,\n",
      "             0,     0,     0,     0,     0,     0,     0,     0,     0,     0,\n",
      "             0,     0,     0,     0,     0,     0,     0,     0,     0,     0,\n",
      "             0,     0,     0,     0,     0,     0,     0,     0,     0,     0,\n",
      "             0,     0,     0,     0,     0,     0,     0,     0,     0,     0,\n",
      "             0,     0,     0,     0,     0,     0,     0,     0,     0,     0,\n",
      "             0,     0,     0,     0,     0,     0,     0,     0,     0,     0,\n",
      "             0,     0,     0,     0,     0,     0,     0,     0,     0,     0,\n",
      "             0,     0,     0,     0,     0,     0,     0,     0,     0,     0,\n",
      "             0,     0,     0,     0,     0,     0,     0,     0,     0,     0]]), 'attention_mask': tensor([[1, 1, 1, 1, 1, 1, 1, 1, 1, 1, 1, 1, 1, 1, 1, 1, 1, 1, 1, 1, 1, 1, 1, 1,\n",
      "         0, 0, 0, 0, 0, 0, 0, 0, 0, 0, 0, 0, 0, 0, 0, 0, 0, 0, 0, 0, 0, 0, 0, 0,\n",
      "         0, 0, 0, 0, 0, 0, 0, 0, 0, 0, 0, 0, 0, 0, 0, 0, 0, 0, 0, 0, 0, 0, 0, 0,\n",
      "         0, 0, 0, 0, 0, 0, 0, 0, 0, 0, 0, 0, 0, 0, 0, 0, 0, 0, 0, 0, 0, 0, 0, 0,\n",
      "         0, 0, 0, 0, 0, 0, 0, 0, 0, 0, 0, 0, 0, 0, 0, 0, 0, 0, 0, 0, 0, 0, 0, 0,\n",
      "         0, 0, 0, 0, 0, 0, 0, 0, 0, 0, 0, 0, 0, 0, 0, 0, 0, 0, 0, 0, 0, 0, 0, 0,\n",
      "         0, 0, 0, 0, 0, 0, 0, 0, 0, 0, 0, 0, 0, 0, 0, 0, 0, 0, 0, 0, 0, 0, 0, 0,\n",
      "         0, 0, 0, 0, 0, 0, 0, 0, 0, 0, 0, 0, 0, 0, 0, 0, 0, 0, 0, 0, 0, 0, 0, 0,\n",
      "         0, 0, 0, 0, 0, 0, 0, 0]])}\n",
      "output\n",
      "tensor([[    0,     3, 23143, 14196,  2847, 17161,   599,     3, 15438, 25424,\n",
      "          6227,   975,  5411,  6075,   834,    23,    26,     3,    61, 21680,\n",
      "            41,  6306, 20557, 20211,  4275, 17558,   834, 16526,   975,   536,\n",
      "             3, 15355,  3162,   784, 17752,   308,   196,  9562,    18, 20050,\n",
      "          5329,  6048,   908,  6306,  4280,   517,    18, 17752,   308,   196,\n",
      "          9562,   908,  6306,   632,   908,  9191,   975,  5411, 17558,   834,\n",
      "          1018,  6873,   834,    23,    26,  2423,  1018,  6873,   834,    23,\n",
      "            26,    61,     3,   117,     1]])\n",
      "output\n",
      "<pad> SELECT COUNT( DISTINCT con1.person_id ) FROM ([SCHEMA].condition_occurrence con1 JOIN [CONDITION-TEMPLATE][ARG-CONDITION][0] ON con1.condition_concept_id=concept_id) ;</s>\n",
      "ML call returns\n",
      "SELECT COUNT( DISTINCT con1.person_id ) FROM (<SCHEMA>.condition_occurrence con1 JOIN <CONDITION-TEMPLATE><ARG-CONDITION><0> ON con1.condition_concept_id=concept_id) ;\n",
      "Rendering uses:\n",
      "SELECT COUNT( DISTINCT con1.person_id ) FROM (<SCHEMA>.condition_occurrence con1 JOIN <CONDITION-TEMPLATE><ARG-CONDITION><0> ON con1.condition_concept_id=concept_id) ;\n",
      "{'TIMEDAYS': [], 'TIMEYEARS': [], 'DRUG': [], 'CONDITION': [{'BeginOffset': 29, 'EndOffset': 37, 'Text': 'Insomnia', 'Options': [{'Description': 'Insomnia, unspecified', 'Code': 'G47.00', 'Score': 0.561515212059021}, {'Description': 'Inadequate sleep hygiene', 'Code': 'Z72.821', 'Score': 0.3777986764907837}, {'Description': 'Insomnia', 'Code': 'G47.0', 'Score': 0.36440205574035645}, {'Description': 'Fatal familial insomnia', 'Code': 'A81.83', 'Score': 0.33539578318595886}, {'Description': 'Psychophysiologic insomnia', 'Code': 'F51.04', 'Score': 0.30938711762428284}], 'Query-arg': 'G47.00', 'Placeholder': '<ARG-CONDITION><0>'}], 'AGE': [], 'STATE': [], 'GENDER': [], 'ETHNICITY': [], 'RACE': []}\n",
      "CONDITION [{'BeginOffset': 29, 'EndOffset': 37, 'Text': 'Insomnia', 'Options': [{'Description': 'Insomnia, unspecified', 'Code': 'G47.00', 'Score': 0.561515212059021}, {'Description': 'Inadequate sleep hygiene', 'Code': 'Z72.821', 'Score': 0.3777986764907837}, {'Description': 'Insomnia', 'Code': 'G47.0', 'Score': 0.36440205574035645}, {'Description': 'Fatal familial insomnia', 'Code': 'A81.83', 'Score': 0.33539578318595886}, {'Description': 'Psychophysiologic insomnia', 'Code': 'F51.04', 'Score': 0.30938711762428284}], 'Query-arg': 'G47.00', 'Placeholder': '<ARG-CONDITION><0>'}]\n"
     ]
    }
   ],
   "source": [
    "import warnings; warnings.filterwarnings('ignore')\n",
    "import config\n",
    "from pipeline import nlq2SqlTool\n",
    "from ui import UI\n",
    "\n",
    "tool = nlq2SqlTool(config)\n",
    "ui = UI(tool)\n",
    "ui.main()"
   ]
  },
  {
   "cell_type": "code",
   "execution_count": null,
   "id": "ed932230",
   "metadata": {},
   "outputs": [],
   "source": []
  }
 ],
 "metadata": {
  "kernelspec": {
   "display_name": "conda_pytorch_p36",
   "language": "python",
   "name": "conda_pytorch_p36"
  },
  "language_info": {
   "codemirror_mode": {
    "name": "ipython",
    "version": 3
   },
   "file_extension": ".py",
   "mimetype": "text/x-python",
   "name": "python",
   "nbconvert_exporter": "python",
   "pygments_lexer": "ipython3",
   "version": "3.6.13"
  }
 },
 "nbformat": 4,
 "nbformat_minor": 5
}
