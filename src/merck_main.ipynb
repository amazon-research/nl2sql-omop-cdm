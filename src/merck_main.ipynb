{
 "cells": [
  {
   "cell_type": "code",
   "execution_count": null,
   "id": "otherwise-shakespeare",
   "metadata": {},
   "outputs": [],
   "source": [
    "%load_ext autoreload\n",
    "%autoreload 2"
   ]
  },
  {
   "cell_type": "markdown",
   "id": "forced-underwear",
   "metadata": {},
   "source": [
    "# Merck Graphical User Interface (GUI)\n",
    "\n",
    "Notebook for Merck users to interact with the Natural Language to SQL tool.\n",
    "\n",
    "\n",
    "## Start the GUI \n",
    "\n",
    "The GUI will appear after running the cell below. To do so you can select the cell and click `▶︎⎮ Run`.\n",
    "\n",
    "## Instructions's Instructions\n",
    "\n",
    "The interface is composed of three tabs: `Main`, `Correct detection` and `Correct code map`. \n",
    "\n",
    "* The `main` tab is used to input the Natural Language Query and has two buttons: \n",
    "\n",
    "    1. `Detect` button runs key entities detection and maps key entities to the most likely option.\n",
    "    2. `Execute` is intended to be runned after the user verifies that the detection and disambiguation are correct. It will run the query agains the Data Base and return the desired table. \n",
    "    \n",
    "* The `Correct detection` is intended for the user to add terms in the sentence that hasen't been automatically detected.\n",
    "\n",
    "    1. The `Write name` box is intended for the user to write the term that hasn't been detected.\n",
    "    2. The `Category` box is intended for the user to choose the category of the entity highlighted by the user.\n",
    "    3. The `Highlight` button is intended for the user to submit the higlighted term. The display will be automatically updated when the highlight is submitted. \n",
    "    \n",
    "* The `Correct code map` is intended for the user to rectify mappings of sentence terms to RxNorm and ICD10 codes for drugs and conditions respectively.\n",
    "\n",
    "    1. The `Drug (Condition)` box is inteded for users to select the detected Drug (Condition) for which they want to change the mapping.\n",
    "    2. The `Show drug (condition) info` will display iformation introduced in the Drug (Condition) including mapping recommendations and the RxNorm (ICD10) code it is currently mapping to.\n",
    "    3. The `Map to` box is intended for the user to write the RxNorm (ICD10) code they want the drug (condition) to map to.\n",
    "    4. The `Update drug (condition)` button is intended for the user to submit the mapping update.\n",
    "    "
   ]
  },
  {
   "cell_type": "code",
   "execution_count": 3,
   "id": "artificial-horse",
   "metadata": {
    "scrolled": false
   },
   "outputs": [
    {
     "name": "stderr",
     "output_type": "stream",
     "text": [
      "The `xla_device` argument has been deprecated in v4.4.0 of Transformers. It is ignored and you can safely remove it from your `config.json` file.\n",
      "The `xla_device` argument has been deprecated in v4.4.0 of Transformers. It is ignored and you can safely remove it from your `config.json` file.\n"
     ]
    },
    {
     "data": {
      "application/vnd.jupyter.widget-view+json": {
       "model_id": "c04729b463644d5d82336d800cdf93d4",
       "version_major": 2,
       "version_minor": 0
      },
      "text/plain": [
       "VBox(children=(Tab(children=(VBox(children=(Textarea(value='', description='Query:', layout=Layout(height='90%…"
      ]
     },
     "metadata": {},
     "output_type": "display_data"
    }
   ],
   "source": [
    "import warnings; warnings.filterwarnings('ignore')\n",
    "import config\n",
    "from pipeline import nlq2SqlTool\n",
    "from ui import UI\n",
    "\n",
    "tool = nlq2SqlTool(config)\n",
    "ui = UI(tool)\n",
    "ui.main()"
   ]
  },
  {
   "cell_type": "code",
   "execution_count": null,
   "id": "august-persian",
   "metadata": {},
   "outputs": [],
   "source": []
  }
 ],
 "metadata": {
  "kernelspec": {
   "display_name": "conda_pytorch_p36",
   "language": "python",
   "name": "conda_pytorch_p36"
  },
  "language_info": {
   "codemirror_mode": {
    "name": "ipython",
    "version": 3
   },
   "file_extension": ".py",
   "mimetype": "text/x-python",
   "name": "python",
   "nbconvert_exporter": "python",
   "pygments_lexer": "ipython3",
   "version": "3.6.13"
  }
 },
 "nbformat": 4,
 "nbformat_minor": 5
}
